{
 "cells": [
  {
   "cell_type": "code",
   "execution_count": 1,
   "metadata": {},
   "outputs": [],
   "source": [
    "# Libraries\n",
    "\n",
    "import matplotlib.pyplot as plt\n",
    "import numpy as np\n",
    "import pandas as pd\n",
    "from scipy.integrate import odeint"
   ]
  },
  {
   "cell_type": "code",
   "execution_count": 2,
   "metadata": {},
   "outputs": [],
   "source": [
    "def ode_model(z, t, R, M, A, D, Beta, y):\n",
    "    # N: population\n",
    "    # R: recruitment rate\n",
    "    # M: death rate\n",
    "    # A: association rate\n",
    "    # D: dissociation rate\n",
    "    # Beta: transmission rate\n",
    "    # y = recovery rate\n",
    "    Ns, Ni, Nr, Nss, Nsi, Nsr, Nii, Nir, Nrr = z\n",
    "    dNsdt = R - 2 * A * Ns ** 2 - A * Ns * Ni + 2 * D * Nss + (M + D) * Nsi + D * Nsr\n",
    "    dNidt = - (M + y) * Ni - 2 * A * Ni ** 2 - A * Ns * Ni - A * Ni * Nr + D * Nir + 2 * (M + D) * Nii + D * Nsi\n",
    "    dNrdt = - 2 * A * Nr ** 2 - A * Ni * Nr - A * Ns * Nr + y * Ni + D * Nsr + (M + D) * Nir + 2 * D * Nrr\n",
    "    dNssdt = - D * Nss + A * Ns ** 2\n",
    "    dNsidt = - (M + D + Beta + y) * Nsi + A * Ns * Ni\n",
    "    dNsrdt = - D * Nsr + A * Ns * Nr + y * Nsi\n",
    "    dNiidt = - (2 * M + D + 2 * y) * Nii + Beta * Nsi + A * Ni ** 2\n",
    "    dNirdt = - (M + D + y) * Nir + A * Ni * Nr + 2 * y * Nii\n",
    "    dNrrdt = - D * Nrr + A * Nr ** 2 + y * Nir\n",
    "    \n",
    "    return [dNsdt, dNidt, dNrdt, dNssdt, dNsidt, dNsrdt, dNiidt, dNirdt, dNrrdt]"
   ]
  },
  {
   "cell_type": "code",
   "execution_count": 3,
   "metadata": {},
   "outputs": [],
   "source": [
    "def ode_solver(t, initial_conditions, params):\n",
    "    initNs, initNi, initNr, initNss, initNsi, initNsr, initNii, initNir, initNrr = initial_conditions\n",
    "    R, M, A, D, Beta, y = params\n",
    "    res = odeint(ode_model, [initNs, initNi, initNr, initNss, initNsi, initNsr, initNii, initNir, initNrr], t, args = (R, M, A, D, Beta, y))\n",
    "    return res"
   ]
  },
  {
   "cell_type": "code",
   "execution_count": 4,
   "metadata": {},
   "outputs": [],
   "source": [
    "def main(initNs = 100, initNi = 10, initNr = 0, initNss = 0, initNsi = 0, initNsr = 0, initNir = 0, initNrr = 0, initNii = 0, R = 2, M = 0.01, A = 1, D = 1, Beta = 0.5, y = 0.05, time = 1097):\n",
    "    initial_conditions = [initNs, initNi, initNr, initNss, initNsi, initNsr, initNir, initNrr, initNii]\n",
    "    params = [R, M, A, D, Beta, y]\n",
    "    \n",
    "#     tspan = np.arange(0.36, time, 1)\n",
    "    tspan = np.arange(0, time, 1)\n",
    "    sol = ode_solver(tspan, initial_conditions, params)\n",
    "    Ns, Ni, Nr, Nss, Nsi, Nsr, Nii, Nir, Nrr = sol[:, 0], sol[:, 1], sol[:, 2], sol[:, 3], sol[:, 4], sol[:, 5], sol[:, 6], sol[:, 7], sol[:, 8]\n",
    "#     plt.plot(np.log(tspan), Ns + Nsi + Nsr + 2 * Nss, 'b', label = 'Susceptible')\n",
    "#     plt.plot(np.log(tspan), Ni + Nsi + Nir + 2 * Nii, 'r', label = 'Infected')\n",
    "#     plt.plot(np.log(tspan), Nr + Nsr + Nir + 2 * Nrr, 'g', label = 'Recovered')\n",
    "    plt.plot(tspan, Ns + Nsi + Nsr + 2 * Nss, 'b', label = 'Susceptible')\n",
    "    plt.plot(tspan, Ni + Nsi + Nir + 2 * Nii, 'r', label = 'Infected')\n",
    "    plt.plot(tspan, Nr + Nsr + Nir + 2 * Nrr, 'g', label = 'Recovered')\n",
    "    plt.legend(loc='best')\n",
    "#     plt.xlabel('ln(t)')\n",
    "    plt.grid()\n",
    "    plt.show()"
   ]
  },
  {
   "cell_type": "code",
   "execution_count": 5,
   "metadata": {},
   "outputs": [
    {
     "data": {
      "image/png": "[encoded data removed]",
      "text/plain": [
       "<Figure size 432x288 with 1 Axes>"
      ]
     },
     "metadata": {
      "needs_background": "light"
     },
     "output_type": "display_data"
    }
   ],
   "source": [
    "main(R = 0, M = 0.01, y = 0.01, time = 100)"
   ]
  },
  {
   "cell_type": "code",
   "execution_count": null,
   "metadata": {},
   "outputs": [],
   "source": []
  }
 ],
 "metadata": {
  "kernelspec": {
   "display_name": "Python 3",
   "language": "python",
   "name": "python3"
  },
  "language_info": {
   "codemirror_mode": {
    "name": "ipython",
    "version": 3
   },
   "file_extension": ".py",
   "mimetype": "text/x-python",
   "name": "python",
   "nbconvert_exporter": "python",
   "pygments_lexer": "ipython3",
   "version": "3.7.6"
  }
 },
 "nbformat": 4,
 "nbformat_minor": 4
}
