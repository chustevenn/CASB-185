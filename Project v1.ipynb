{
 "cells": [
  {
   "cell_type": "markdown",
   "metadata": {},
   "source": [
    "The project draws lots of inspiration from:\n",
    "\n",
    "https://github.com/silpara/simulators/blob/master/compartmental_models/SEIR%20Simulator%20in%20Python.ipynb\n",
    "\n",
    "https://github.com/silpara/simulators/blob/master/compartmental_models/SEIRD%20Simulator%20in%20Python.ipynb"
   ]
  },
  {
   "cell_type": "code",
   "execution_count": 1,
   "metadata": {},
   "outputs": [],
   "source": [
    "# Libraries\n",
    "\n",
    "import matplotlib.pyplot as plt\n",
    "import numpy as np\n",
    "import pandas as pd\n",
    "from scipy.integrate import odeint"
   ]
  },
  {
   "cell_type": "code",
   "execution_count": 2,
   "metadata": {},
   "outputs": [],
   "source": [
    "def ode_model(y, t, R, Ms, Mi, Mss, Mis, Msi, Mii, Ass, Aii, Asi, Dss, Dsi, Dii, Beta):\n",
    "    # N: population\n",
    "    # R: recruitment rate\n",
    "    # M: death rate\n",
    "    # A: association rate\n",
    "    # D: dissociation rate\n",
    "    # Beta: transmission rate\n",
    "    Ns, Ni, Nss, Nsi, Nii = y\n",
    "    N = Ns + Ni + Nss + Nsi + Nii\n",
    "    dNsdt = R - Ms*Ns - 2 * Ass * Ns ** 2 - Asi * Ns * Ni + 2 * (Mss + Dss) * Nss + (Mis + Dsi) * Nsi\n",
    "    dNidt = - Mi * Ni - 2 * Aii * Ni ** 2 - Asi * Ns * Ni + 2 * (Mii + Dii) * Nii + (Msi + Dsi) * Nsi\n",
    "    dNssdt = - (2 * Mss + Dss) * Nss + Ass * Ns ** 2\n",
    "    dNsidt = - (Mis + Msi + Dsi + Beta) * Nsi + Asi * Ns * Ni\n",
    "    dNiidt = - (2 * Mii + Dii) * Nii + Beta * Nsi + Aii * Ni ** 2\n",
    "    return [dNsdt, dNidt, dNssdt, dNsidt, dNiidt]"
   ]
  },
  {
   "cell_type": "code",
   "execution_count": 3,
   "metadata": {},
   "outputs": [],
   "source": [
    "def ode_solver(t, initial_conditions, params):\n",
    "    initNs, initNi, initNss, initNsi, initNii = initial_conditions\n",
    "    R, Ms, Mi, Mss, Mis, Msi, Mii, Ass, Aii, Asi, Dss, Dsi, Dii, Beta = params\n",
    "    res = odeint(ode_model, [initNs, initNi, initNss, initNsi, initNii], t, args = (R, Ms, Mi, Mss, Mis, Msi, Mii, Ass, Aii, Asi, Dss, Dsi, Dii, Beta))\n",
    "    return res"
   ]
  },
  {
   "cell_type": "code",
   "execution_count": 4,
   "metadata": {},
   "outputs": [],
   "source": [
    "def main(initNs = 100, initNi = 10, initNss = 0, initNsi = 0, initNii = 0, R = 2, Ms = 0, Mi = 0.01, Mss = 0, Mis = 0.01, Msi = 0, Mii = 0.01, Ass = 1, Aii = 1, Asi = 1, Dss = 1, Dsi = 1, Dii = 1, Beta = 0.5, time = 1097):\n",
    "    initial_conditions = [initNs, initNi, initNss, initNsi, initNii]\n",
    "    params = [R, Ms, Mi, Mss, Mis, Msi, Mii, Ass, Aii, Asi, Dss, Dsi, Dii, Beta]\n",
    "    tspan = np.arange(0.36, time, 1)\n",
    "    sol = ode_solver(tspan, initial_conditions, params)\n",
    "    Ns, Ni, Nss, Nsi, Nii = sol[:, 0], sol[:, 1], sol[:, 2], sol[:, 3], sol[:, 4]\n",
    "    plt.plot(np.log(tspan), Ns + Nsi + 2 * Nss, 'b', label = 'Susceptible')\n",
    "    plt.plot(np.log(tspan), Ni + Nsi + 2 * Nii, 'r', label = 'Infected')\n",
    "    plt.legend(loc='best')\n",
    "    plt.xlabel('ln(t)')\n",
    "    plt.grid()\n",
    "    plt.show()"
   ]
  },
  {
   "cell_type": "code",
   "execution_count": 5,
   "metadata": {},
   "outputs": [
    {
     "data": {
      "image/png": "[encoded data removed]",
      "text/plain": [
       "<Figure size 432x288 with 1 Axes>"
      ]
     },
     "metadata": {
      "needs_background": "light"
     },
     "output_type": "display_data"
    }
   ],
   "source": [
    "main()"
   ]
  }
 ],
 "metadata": {
  "kernelspec": {
   "display_name": "Python 3",
   "language": "python",
   "name": "python3"
  },
  "language_info": {
   "codemirror_mode": {
    "name": "ipython",
    "version": 3
   },
   "file_extension": ".py",
   "mimetype": "text/x-python",
   "name": "python",
   "nbconvert_exporter": "python",
   "pygments_lexer": "ipython3",
   "version": "3.7.6"
  }
 },
 "nbformat": 4,
 "nbformat_minor": 4
}
